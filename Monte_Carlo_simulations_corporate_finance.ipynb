{
  "nbformat": 4,
  "nbformat_minor": 0,
  "metadata": {
    "colab": {
      "provenance": [],
      "authorship_tag": "ABX9TyPnyxas4WYGIw6bssefZ07u",
      "include_colab_link": true
    },
    "kernelspec": {
      "name": "python3",
      "display_name": "Python 3"
    },
    "language_info": {
      "name": "python"
    }
  },
  "cells": [
    {
      "cell_type": "markdown",
      "metadata": {
        "id": "view-in-github",
        "colab_type": "text"
      },
      "source": [
        "<a href=\"https://colab.research.google.com/github/romashencia/hello-streamlit/blob/main/Monte_Carlo_simulations_corporate_finance.ipynb\" target=\"_parent\"><img src=\"https://colab.research.google.com/assets/colab-badge.svg\" alt=\"Open In Colab\"/></a>"
      ]
    },
    {
      "cell_type": "code",
      "execution_count": 1,
      "metadata": {
        "id": "SyVq0QDO-OtT"
      },
      "outputs": [],
      "source": [
        "import numpy as np"
      ]
    },
    {
      "cell_type": "code",
      "source": [
        "price_0 = 60\n",
        "q_max = 10\n",
        "q_max_e = 20\n",
        "rf = 0.05\n",
        "b = 40\n",
        "u = 1.4\n",
        "d = 1/1.4\n",
        "T = 10\n",
        "mc_sims = 400 #we can calibrate this number"
      ],
      "metadata": {
        "id": "Pgp_COrgBvX_"
      },
      "execution_count": 2,
      "outputs": []
    },
    {
      "cell_type": "markdown",
      "source": [
        "a) Risk-neuttal probabilities"
      ],
      "metadata": {
        "id": "05n9uSSoBfEC"
      }
    },
    {
      "cell_type": "code",
      "source": [
        "prob = (1 + rf - d) / (u - d)\n",
        "print(round(prob, 2))"
      ],
      "metadata": {
        "colab": {
          "base_uri": "https://localhost:8080/"
        },
        "id": "BbMPrb90BeHR",
        "outputId": "d6083126-137e-4415-bcdf-c5e862df62c7"
      },
      "execution_count": 42,
      "outputs": [
        {
          "output_type": "stream",
          "name": "stdout",
          "text": [
            "0.49\n"
          ]
        }
      ]
    },
    {
      "cell_type": "markdown",
      "source": [
        "b) Calculating PV"
      ],
      "metadata": {
        "id": "mTfm9Tl9wOqs"
      }
    },
    {
      "cell_type": "code",
      "source": [
        "# Making a random-walk model for prices\n",
        "T = 10\n",
        "prices = np.zeros((T + 1, mc_sims))\n",
        "prices[0] = price_0\n",
        "\n",
        "for n in range(mc_sims):\n",
        "    for i in range(1, T + 1):\n",
        "        if np.random.rand() < prob:\n",
        "            prices[i, n] = prices[i - 1, n] * u\n",
        "        else:\n",
        "            prices[i, n] = prices[i - 1, n] * d\n"
      ],
      "metadata": {
        "id": "J4vqCx3ZwSLl"
      },
      "execution_count": 36,
      "outputs": []
    },
    {
      "cell_type": "code",
      "source": [
        "# Calculating PV of CF for every simulation\n",
        "disc_CF = np.zeros((T + 1, mc_sims))\n",
        "\n",
        "for n in range(mc_sims):\n",
        "    for i in range(T + 1):\n",
        "        if i == 0:\n",
        "            disc_CF[i, n] = (price_0 - b) * q_max\n",
        "        else:\n",
        "            disc_CF[i, n] = (prices[i, n] - b) * q_max / (1 + rf) ** i\n",
        "disc_CF\n"
      ],
      "metadata": {
        "colab": {
          "base_uri": "https://localhost:8080/"
        },
        "id": "3bTC4pDl_pDh",
        "outputId": "d64e137e-f4e3-42ad-d912-b2a02e431d17"
      },
      "execution_count": 37,
      "outputs": [
        {
          "output_type": "execute_result",
          "data": {
            "text/plain": [
              "array([[200.        , 200.        , 200.        , ..., 200.        ,\n",
              "        200.        , 200.        ],\n",
              "       [419.04761905, 419.04761905, 419.04761905, ...,  27.21088435,\n",
              "        419.04761905,  27.21088435],\n",
              "       [181.40589569, 703.85487528, 703.85487528, ..., 181.40589569,\n",
              "        181.40589569, -85.14970614],\n",
              "       ...,\n",
              "       [525.22734493, 135.36787241, 525.22734493, ..., 525.22734493,\n",
              "        135.36787241, 525.22734493],\n",
              "       [283.62792314,  18.41739761, 283.62792314, ..., 283.62792314,\n",
              "         18.41739761, 803.44055317],\n",
              "       [476.39668475, -57.63267278, 122.78265071, ..., 476.39668475,\n",
              "        -57.63267278, 476.39668475]])"
            ]
          },
          "metadata": {},
          "execution_count": 37
        }
      ]
    },
    {
      "cell_type": "code",
      "source": [
        "PV = np.mean(np.sum(disc_CF, axis=0))\n",
        "print(f\"PV of your CF's assuming no flexibility = {round(PV, 2)}\")"
      ],
      "metadata": {
        "colab": {
          "base_uri": "https://localhost:8080/"
        },
        "id": "ys-_IippNWvp",
        "outputId": "c178b833-39c4-4422-d57b-cc97126bcece"
      },
      "execution_count": 38,
      "outputs": [
        {
          "output_type": "stream",
          "name": "stdout",
          "text": [
            "PV of your CF's assuming no flexibility = 3433.91\n"
          ]
        }
      ]
    },
    {
      "cell_type": "markdown",
      "source": [
        "**c) Optimizing our extraction depending on the\n",
        "oil price**"
      ],
      "metadata": {
        "id": "THDs6eCHTBpn"
      }
    },
    {
      "cell_type": "code",
      "source": [
        "disc_CF_opt = np.zeros((T + 1, mc_sims)) # new massive for cash flows\n",
        "disc_CF_opt[0] = (price_0 - b) * q_max\n",
        "\n",
        "for n in range(mc_sims):\n",
        "    for i in range(1, T + 1):\n",
        "        if prices[i, n] > b:\n",
        "            disc_CF_opt[i, n] = (prices[i, n] - b) * q_max / (1 + rf) ** i\n",
        "        else:\n",
        "            disc_CF_opt[i, n] = 0\n",
        "\n",
        "\n",
        "PV_opt = np.mean(np.sum(disc_CF_opt, axis=0))\n",
        "\n",
        "print(f\"PV of our CF's assuming optimization = {round(PV_opt, 2)}\")"
      ],
      "metadata": {
        "colab": {
          "base_uri": "https://localhost:8080/"
        },
        "id": "5-X6kAnuTvbB",
        "outputId": "c9078b89-8734-46ed-a569-97efaab872ac"
      },
      "execution_count": 39,
      "outputs": [
        {
          "output_type": "stream",
          "name": "stdout",
          "text": [
            "PV of our CF's assuming optimization = 3723.96\n"
          ]
        }
      ]
    },
    {
      "cell_type": "markdown",
      "source": [
        "Optimized PV is higher than the previous one because now we have an option to delete negative CFs"
      ],
      "metadata": {
        "id": "_RO8Dj7ws_8l"
      }
    },
    {
      "cell_type": "markdown",
      "source": [
        "**d) Expanding our extraction capacity for a fixed cost of I.**\n",
        "\n",
        "We will pay *I* only when it's smaller than our PV from the previous question. Because with this option we could double our PV.\n",
        "So  ***I* < 2937,5**"
      ],
      "metadata": {
        "id": "faAflFY4X4cc"
      }
    },
    {
      "cell_type": "markdown",
      "source": [
        "**e) Implementing expansion at time 0, 1 or 2**"
      ],
      "metadata": {
        "id": "R2OwhzCUiih4"
      }
    },
    {
      "cell_type": "code",
      "source": [
        "#t=0\n",
        "disc_CF_e_0 = np.zeros((T + 1, mc_sims))\n",
        "disc_CF_e_0[0] = (price_0 - b) * q_max_e\n",
        "\n",
        "for n in range(mc_sims):\n",
        "    for i in range(1, T + 1):\n",
        "        if prices[i, n] > b:\n",
        "            disc_CF_e_0[i, n] = (prices[i, n] - b) * q_max_e / (1 + rf) ** i\n",
        "        else:\n",
        "            disc_CF_e_0[i, n] = 0\n",
        "\n",
        "PV_opt_e_0 = np.mean(np.sum(disc_CF_e_0, axis=0))\n",
        "#print(PV_opt_e_0)\n",
        "print(f\"We'll expand if I <= {round(PV_opt_e_0 - PV_opt, 2)}\")"
      ],
      "metadata": {
        "colab": {
          "base_uri": "https://localhost:8080/"
        },
        "id": "x6lYI8nOpReu",
        "outputId": "5e0ed53f-d68f-488a-dfe1-3825159cdc27"
      },
      "execution_count": 40,
      "outputs": [
        {
          "output_type": "stream",
          "name": "stdout",
          "text": [
            "We'll expand if I <= 3723.96\n"
          ]
        }
      ]
    },
    {
      "cell_type": "code",
      "source": [
        "#t=1\n",
        "#there are 2 possible states of the world at t=1\n",
        "p_u = price_0 * u\n",
        "p_d = price_0 * d\n",
        "\n",
        "prices_t1 = [p_u, p_d]\n",
        "\n",
        "PV_exp_1 = []\n",
        "PV_nonexp_1 = []\n",
        "\n",
        "for price_t1 in prices_t1:\n",
        "    PV_exp_total = np.zeros(mc_sims) #here we will keep PV's for each iteration\n",
        "    PV_nonexp_total = np.zeros(mc_sims)\n",
        "    for n in range(mc_sims):\n",
        "        prices = np.zeros(T + 1)\n",
        "        prices[0] = price_0\n",
        "        prices[1] = price_t1\n",
        "        for i in range(2, T + 1): # generate prices after t = 1 for each scenario taking into account risk neutral probabilities\n",
        "            if np.random.rand()< prob:  #random walk\n",
        "                prices[i] = prices[i - 1] * u\n",
        "            else:\n",
        "                prices[i] = prices[i - 1] * d\n",
        "        for t in range(1, T + 1):\n",
        "            PV_exp_total[n] += max(0, (prices[t-1] - b)) * q_max_e / ((1 + rf) ** (t-1)) #sum of the discounted CF's with expancion\n",
        "            PV_nonexp_total[n] += max(0, (prices[t-1] - b)) * q_max / ((1 + rf) ** (t-1)) #sum of the discounted CF's without expancion\n",
        "    avg_PV_exp_1 = np.mean(PV_exp_total)\n",
        "    avg_PV_nonexp_1 = np.mean(PV_nonexp_total)\n",
        "    PV_exp_1.append(avg_PV_exp_1)\n",
        "    PV_nonexp_1.append(avg_PV_nonexp_1)\n",
        "\n",
        "# I must be such that the current expansion costs do not exceed differences in PV's\n",
        "print(f\"p_u => I must be < {round(PV_exp_1[0] - PV_nonexp_1[0], 2)} for expancion\")\n",
        "print(f\"p_d => I must be < {round(PV_exp_1[1] - PV_nonexp_1[1], 2)} for expancion\")"
      ],
      "metadata": {
        "colab": {
          "base_uri": "https://localhost:8080/"
        },
        "id": "r3k8kyBQZM5G",
        "outputId": "958b3fad-3947-43fa-812c-cb7973e28b53"
      },
      "execution_count": 26,
      "outputs": [
        {
          "output_type": "stream",
          "name": "stdout",
          "text": [
            "p_u => I must be < 4670.15 for expancion\n",
            "p_d => I must be < 1531.23 for expancion\n"
          ]
        }
      ]
    },
    {
      "cell_type": "code",
      "source": [
        "#t=2\n",
        "#there are 3 possible states of the world at t=1\n",
        "p_uu = price_0 * u * u\n",
        "p_ud = price_0 * u * d\n",
        "p_dd = price_0 * d * d\n",
        "\n",
        "prices_t2 = [p_uu, p_ud, p_dd]\n",
        "\n",
        "PV_exp_2= []\n",
        "PV_nonexp_2 = []\n",
        "\n",
        "# cycles by analogy with t=1\n",
        "for price_t2 in prices_t2:\n",
        "    PV_exp_total = np.zeros(mc_sims)\n",
        "    PV_nonexp_total = np.zeros(mc_sims)\n",
        "    for n in range(mc_sims):\n",
        "        prices = np.zeros(T + 1)\n",
        "        prices[0] = price_t2\n",
        "        for t in range(1, T + 1):\n",
        "            if np.random.rand() < prob:\n",
        "                prices[t] = prices[t - 1] * u\n",
        "            else:\n",
        "                prices[t] = prices[t - 1] * d\n",
        "        for t in range(2, T + 1):\n",
        "            PV_exp_total[n] += max(0, (prices[t-2] - b)) * q_max_e / ((1 + rf) ** (t-2))\n",
        "            PV_nonexp_total[n] += max(0, (prices[t-2] - b)) * q_max / ((1 + rf) ** (t-2))\n",
        "    avg_PV_exp_2 = np.mean(PV_exp_total)\n",
        "    avg_PV_nonexp_2 = np.mean(PV_nonexp_total)\n",
        "    PV_exp_2.append(avg_PV_exp_2)\n",
        "    PV_nonexp_2.append(avg_PV_nonexp_2)\n",
        "\n",
        "print(f\"p_uu => I must be < {round(PV_exp_2[0] - PV_nonexp_2[0], 2)} for expancion\")\n",
        "print(f\"p_ud => I must be < {round(PV_exp_2[1] - PV_nonexp_2[1], 2)} for expancion\")\n",
        "print(f\"p_dd => I must be < {round(PV_exp_2[2] - PV_nonexp_2[2], 2)} for expancion\")"
      ],
      "metadata": {
        "colab": {
          "base_uri": "https://localhost:8080/"
        },
        "id": "mrqmYUZ95SdU",
        "outputId": "bb09e6bc-a21f-404d-f88b-29b7c78f24ef"
      },
      "execution_count": 28,
      "outputs": [
        {
          "output_type": "stream",
          "name": "stdout",
          "text": [
            "p_uu => I must be < 8154.17 for expancion\n",
            "p_ud => I must be < 2708.94 for expancion\n",
            "p_dd => I must be < 681.13 for expancion\n"
          ]
        }
      ]
    },
    {
      "cell_type": "markdown",
      "source": [
        "As a result, when I <= 3723.96 - choose to expand at t = 0\n",
        "\n",
        "\n",
        "4670.15 <= I <= 3521.29 - choose to expand at t = 1(u)\n",
        "\n",
        "8154.17 <= I <= 4670.15 - choose to expand at t = 2(uu)"
      ],
      "metadata": {
        "id": "nkrhJNtBuU5Y"
      }
    }
  ]
}